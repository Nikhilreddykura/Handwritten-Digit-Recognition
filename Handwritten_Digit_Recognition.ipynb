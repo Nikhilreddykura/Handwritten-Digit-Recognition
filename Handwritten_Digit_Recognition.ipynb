{
  "nbformat": 4,
  "nbformat_minor": 0,
  "metadata": {
    "colab": {
      "provenance": []
    },
    "kernelspec": {
      "name": "python3",
      "display_name": "Python 3"
    },
    "language_info": {
      "name": "python"
    }
  },
  "cells": [
    {
      "cell_type": "code",
      "execution_count": null,
      "metadata": {
        "colab": {
          "base_uri": "https://localhost:8080/"
        },
        "id": "4saYqRY0a5NJ",
        "outputId": "8d6c5cab-ba9b-4e96-e354-92f22dfa35e4"
      },
      "outputs": [
        {
          "output_type": "stream",
          "name": "stdout",
          "text": [
            "Downloading data from https://storage.googleapis.com/tensorflow/tf-keras-datasets/mnist.npz\n",
            "11490434/11490434 [==============================] - 0s 0us/step\n",
            "Epoch 1/10\n",
            "1500/1500 [==============================] - 11s 6ms/step - loss: 0.2694 - accuracy: 0.9217 - val_loss: 0.1332 - val_accuracy: 0.9599\n",
            "Epoch 2/10\n",
            "1500/1500 [==============================] - 7s 4ms/step - loss: 0.1115 - accuracy: 0.9672 - val_loss: 0.1116 - val_accuracy: 0.9659\n",
            "Epoch 3/10\n",
            "1500/1500 [==============================] - 5s 4ms/step - loss: 0.0751 - accuracy: 0.9768 - val_loss: 0.1003 - val_accuracy: 0.9693\n",
            "Epoch 4/10\n",
            "1500/1500 [==============================] - 7s 5ms/step - loss: 0.0562 - accuracy: 0.9821 - val_loss: 0.0923 - val_accuracy: 0.9717\n",
            "Epoch 5/10\n",
            "1500/1500 [==============================] - 5s 3ms/step - loss: 0.0430 - accuracy: 0.9861 - val_loss: 0.1003 - val_accuracy: 0.9723\n",
            "Epoch 6/10\n",
            "1500/1500 [==============================] - 7s 5ms/step - loss: 0.0353 - accuracy: 0.9889 - val_loss: 0.1138 - val_accuracy: 0.9717\n",
            "Epoch 7/10\n",
            "1500/1500 [==============================] - 5s 4ms/step - loss: 0.0297 - accuracy: 0.9903 - val_loss: 0.0894 - val_accuracy: 0.9774\n",
            "Epoch 8/10\n",
            "1500/1500 [==============================] - 7s 5ms/step - loss: 0.0234 - accuracy: 0.9922 - val_loss: 0.0924 - val_accuracy: 0.9747\n",
            "Epoch 9/10\n",
            "1500/1500 [==============================] - 6s 4ms/step - loss: 0.0217 - accuracy: 0.9927 - val_loss: 0.1106 - val_accuracy: 0.9728\n",
            "Epoch 10/10\n",
            "1500/1500 [==============================] - 7s 5ms/step - loss: 0.0199 - accuracy: 0.9934 - val_loss: 0.1077 - val_accuracy: 0.9742\n",
            "313/313 [==============================] - 1s 2ms/step - loss: 0.0926 - accuracy: 0.9772\n",
            "Accuracy: 0.98\n"
          ]
        }
      ],
      "source": [
        "import tensorflow as tf\n",
        "from tensorflow.keras.datasets import mnist\n",
        "from tensorflow.keras.models import Sequential\n",
        "from tensorflow.keras.layers import Dense, Flatten\n",
        "from tensorflow.keras.utils import to_categorical\n",
        "\n",
        "# Load the dataset\n",
        "(X_train, y_train), (X_test, y_test) = mnist.load_data()\n",
        "\n",
        "# Preprocess the data\n",
        "X_train = X_train.astype('float32') / 255.0\n",
        "X_test = X_test.astype('float32') / 255.0\n",
        "y_train = to_categorical(y_train, 10)\n",
        "y_test = to_categorical(y_test, 10)\n",
        "\n",
        "# Build the model\n",
        "model = Sequential([\n",
        "    Flatten(input_shape=(28, 28)),\n",
        "    Dense(128, activation='relu'),\n",
        "    Dense(64, activation='relu'),\n",
        "    Dense(10, activation='softmax')\n",
        "])\n",
        "\n",
        "# Compile the model\n",
        "model.compile(optimizer='adam', loss='categorical_crossentropy', metrics=['accuracy'])\n",
        "\n",
        "# Train the model\n",
        "model.fit(X_train, y_train, epochs=10, batch_size=32, validation_split=0.2)\n",
        "\n",
        "# Evaluate the model\n",
        "loss, accuracy = model.evaluate(X_test, y_test)\n",
        "print(f\"Accuracy: {accuracy:.2f}\")\n"
      ]
    }
  ]
}